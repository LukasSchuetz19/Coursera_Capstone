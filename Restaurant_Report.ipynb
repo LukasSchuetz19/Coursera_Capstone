{
 "cells": [
  {
   "cell_type": "markdown",
   "metadata": {},
   "source": [
    "# Report on my Coursera capstone project"
   ]
  },
  {
   "cell_type": "markdown",
   "metadata": {},
   "source": [
    "## 1. Introduction\n",
    "My chosen problem is the following: What is the best place in Toronto to open an Italian restaurant? The stakeholder is the owner of different restaurants who wants to expand their business. He/she is looking for a neighborhood with many restaurants, but few Italian restaurants. The reason for this decision is the assumption that in such a neighborhood people are prone to eat out (because there are a lot of restaurants). Nevertheless, a high number of Italian restaurants is not favorable because of the resulting competition. "
   ]
  },
  {
   "cell_type": "markdown",
   "metadata": {},
   "source": [
    "## 2. Data Scraping\n",
    "The first source of the data is a Wikipedia article about the neighborhoods of toronto containing the borough and neighborhood names as well as the postal code. To get the location data, another database containing the postal codes and latidude and longitude of the neighborhood's center is combined with the first one. \n",
    "In the next step, the Foursquare database is used to get the top venues in every neighborhood including restaurants. The resulting data is filtered to get only information about the restaurants. "
   ]
  },
  {
   "cell_type": "markdown",
   "metadata": {},
   "source": [
    "## 3. Methodology\n",
    "The obtained data is processed into a new dataframe which contains the number of italian restaurants as well as total number of restaurants for every neighborhood. The location data is considered as well under the assumption that people from surrounding neighborhoods are also potential clients. This data is then used to perform a K-means Clustering Algorithm to similar neighborhoods. After that, the characteristics of the cluster are analyzed. The neighborhoods of the cluster with the best characteristics are then visualized in the map to show the stakeholder where the best location for their restaurant is.  "
   ]
  },
  {
   "cell_type": "markdown",
   "metadata": {},
   "source": [
    "## 4. Results"
   ]
  },
  {
   "cell_type": "markdown",
   "metadata": {},
   "source": [
    "After the clustering, one group of neighborhoods proves to have an above average number of restaurants, while the number of Italian restaurants is relatively small. The cluster contains 5 different neighborhoods which are best suited for the client.\n",
    "\n",
    "| Cluster        | Latitude           | Longitude  | Mean number of Italian Restaurants |Mean number of Restaurants\n",
    "| ------------- |-------------| -----|  -----|  -----|\n",
    "0.0|43.715968|-79.399869|0.275862|0.775862\n",
    "1.0|43.652044|-79.379632|4.400000|29.000000\n",
    "2.0|43.684875|-79.390244|3.000000|15.000000\n",
    "3.0|43.701346|-79.403513|0.894737|5.894737\n",
    "4.0|43.653253|-79.385975|2.200000|37.400000\n"
   ]
  },
  {
   "cell_type": "markdown",
   "metadata": {},
   "source": [
    "## 5. Discussion"
   ]
  },
  {
   "cell_type": "markdown",
   "metadata": {},
   "source": [
    "The comparison of the mean values in the found cluster proves that the corresponding neighborhoods are very different regarding the number of restaurants. The found neighborhoods are the ones with the most restaurant density, while the number of competitors with Italian Restaurants is small (2-4 Italian restaurants). Also, the neighborhoods lie in the center of Toronto where a high number of people goes out to have dinner. \n",
    "\n",
    "Neighborhood|Latitude|Longitude|Italian Restaurants|Restaurants|Postal Code\n",
    "Adelaide, King, Richmond|43.650571|-79.384568|2.0|37.0|M5H\n",
    "Chinatown, Grange Park, Kensington Market|43.653206|-79.400049\t2.0\t41.0\tM5T\n",
    "Church and Wellesley|43.665860|-79.383160\t1.0\t35.0\tM4Y\n",
    "Commerce Court, Victoria Hotel|43.648198|-79.379817\t4.0\t36.0\tM5L\n",
    "First Canadian Place, Underground city|43.648429|-79.382280\t2.0\t38.0|M5X"
   ]
  },
  {
   "cell_type": "markdown",
   "metadata": {},
   "source": [
    "## 6. Conclusion"
   ]
  },
  {
   "cell_type": "markdown",
   "metadata": {},
   "source": [
    "My recommendation for the client is to open up a Italian restaurant in one of the found clusters, where the average number of restaurants is very high while the number of Italian restaurants is relatively small. "
   ]
  },
  {
   "cell_type": "code",
   "execution_count": null,
   "metadata": {},
   "outputs": [],
   "source": []
  }
 ],
 "metadata": {
  "kernelspec": {
   "display_name": "Python 3",
   "language": "python",
   "name": "python3"
  },
  "language_info": {
   "codemirror_mode": {
    "name": "ipython",
    "version": 3
   },
   "file_extension": ".py",
   "mimetype": "text/x-python",
   "name": "python",
   "nbconvert_exporter": "python",
   "pygments_lexer": "ipython3",
   "version": "3.6.8"
  }
 },
 "nbformat": 4,
 "nbformat_minor": 2
}
